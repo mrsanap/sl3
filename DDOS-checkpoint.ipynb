{
 "cells": [
  {
   "cell_type": "code",
   "execution_count": null,
   "id": "f91d6e81",
   "metadata": {},
   "outputs": [],
   "source": [
    "#import required libraries\n",
    "import pandas as pd\n",
    "import matplotlib.pyplot as plt\n",
    "from matplotlib.pyplot import figure\n",
    "import seaborn as sns"
   ]
  },
  {
   "cell_type": "code",
   "execution_count": null,
   "id": "09fdc48d",
   "metadata": {},
   "outputs": [],
   "source": [
    "\n",
    "#Read dataset\n",
    "data = pd.read_csv('dataset_ddos.csv')"
   ]
  },
  {
   "cell_type": "code",
   "execution_count": null,
   "id": "17c2b871",
   "metadata": {},
   "outputs": [],
   "source": [
    "\n",
    "#check the dataset\n",
    "data.head()"
   ]
  },
  {
   "cell_type": "code",
   "execution_count": null,
   "id": "99ebdef6",
   "metadata": {},
   "outputs": [],
   "source": [
    "#check the shape of the dataset\n",
    "data.shape"
   ]
  },
  {
   "cell_type": "code",
   "execution_count": null,
   "id": "9ed2fe63",
   "metadata": {},
   "outputs": [],
   "source": [
    "\n",
    "#check the information of the data\n",
    "data.info()\n",
    "   "
   ]
  },
  {
   "cell_type": "code",
   "execution_count": null,
   "id": "6a156f92",
   "metadata": {},
   "outputs": [],
   "source": [
    "#we see that the label contains boolean value: 0-bening, 1-maliciuous\n",
    "data.label.unique()"
   ]
  },
  {
   "cell_type": "code",
   "execution_count": null,
   "id": "f9de2557",
   "metadata": {},
   "outputs": [],
   "source": [
    "#count the total value of 0 and 1\n",
    "data.label.value_counts()"
   ]
  },
  {
   "cell_type": "code",
   "execution_count": null,
   "id": "e433a440",
   "metadata": {},
   "outputs": [],
   "source": [
    "#bar plot for 0 and 1 using dictionary\n",
    "label_dict = dict(data.label.value_counts())\n",
    "label_dict"
   ]
  },
  {
   "cell_type": "code",
   "execution_count": null,
   "id": "3dcd07c0",
   "metadata": {},
   "outputs": [],
   "source": [
    "labels = ['Malicious', 'Benign']\n",
    "sizes = [dict(data.label.value_counts())[0], dict(data.label.value_counts())[1]]\n",
    "plt.figure(figsize = (12, 8))\n",
    "plt.pie(sizes, labels=labels, autopct='%1.1f%%', shadow=True, startangle=90)\n",
    "plt.legend([\"Malicious\", \"Benign\"])\n",
    "plt.title('The percentage of Benign and Malicious Requests in dataset')\n",
    "plt.show()"
   ]
  },
  {
   "cell_type": "code",
   "execution_count": null,
   "id": "2f61cb3e",
   "metadata": {},
   "outputs": [],
   "source": [
    "#use decribe function \n",
    "data.describe()"
   ]
  },
  {
   "cell_type": "code",
   "execution_count": null,
   "id": "9a6b3027",
   "metadata": {},
   "outputs": [],
   "source": [
    "#check the null values in data\n",
    "data.isnull().sum()"
   ]
  },
  {
   "cell_type": "code",
   "execution_count": null,
   "id": "1ca1d9f3",
   "metadata": {},
   "outputs": [],
   "source": [
    "#Let's look at Object columns (Source Destination Protocol)\n",
    "\n",
    "figure(figsize=(12, 7), dpi=80)\n",
    "plt.barh(list(dict(data.src.value_counts()).keys()), dict(data.src.value_counts()).values(), color='lawngreen')\n",
    "\n",
    "for idx, val in enumerate(dict(data.src.value_counts()).values()):\n",
    "    plt.text(x = val, y = idx-0.2, s = str(val), color='r', size = 13)\n",
    "\n",
    "plt.xlabel('Number of Requests')\n",
    "plt.ylabel('IP addres of sender')\n",
    "plt.title('Number of all reqests')"
   ]
  },
  {
   "cell_type": "code",
   "execution_count": null,
   "id": "6ee9b11b",
   "metadata": {},
   "outputs": [],
   "source": [
    "\n",
    "figure(figsize=(12, 7), dpi=80)\n",
    "plt.barh(list(dict(data[data.label == 1].src.value_counts()).keys()), dict(data[data.label == 1].src.value_counts()).values(), color='blue')\n",
    "\n",
    "for idx, val in enumerate(dict(data[data.label == 1].src.value_counts()).values()):\n",
    "    plt.text(x = val, y = idx-0.2, s = str(val), color='r', size = 13)\n",
    "\n",
    "plt.xlabel('Number of Requests')\n",
    "plt.ylabel('IP addres of sender')\n",
    "plt.title('Number of Attack requests')"
   ]
  },
  {
   "cell_type": "code",
   "execution_count": null,
   "id": "02d11865",
   "metadata": {},
   "outputs": [],
   "source": [
    "figure(figsize=(12, 7), dpi=80)\n",
    "plt.barh(list(dict(data.src.value_counts()).keys()), dict(data.src.value_counts()).values(), color='lawngreen')\n",
    "plt.barh(list(dict(data[data.label == 1].src.value_counts()).keys()), dict(data[data.label == 1].src.value_counts()).values(), color='blue')\n",
    "\n",
    "for idx, val in enumerate(dict(data.src.value_counts()).values()):\n",
    "    plt.text(x = val, y = idx-0.2, s = str(val), color='r', size = 13)\n",
    "\n",
    "for idx, val in enumerate(dict(data[data.label == 1].src.value_counts()).values()):\n",
    "    plt.text(x = val, y = idx-0.2, s = str(val), color='w', size = 13)\n",
    "\n",
    "\n",
    "plt.xlabel('Number of Requests')\n",
    "plt.ylabel('IP addres of sender')\n",
    "plt.legend(['All','malicious'])\n",
    "plt.title('Number of requests from different IP adress')"
   ]
  },
  {
   "cell_type": "code",
   "execution_count": null,
   "id": "c7493259",
   "metadata": {},
   "outputs": [],
   "source": []
  }
 ],
 "metadata": {
  "kernelspec": {
   "display_name": "Python 3 (ipykernel)",
   "language": "python",
   "name": "python3"
  },
  "language_info": {
   "codemirror_mode": {
    "name": "ipython",
    "version": 3
   },
   "file_extension": ".py",
   "mimetype": "text/x-python",
   "name": "python",
   "nbconvert_exporter": "python",
   "pygments_lexer": "ipython3",
   "version": "3.9.13"
  }
 },
 "nbformat": 4,
 "nbformat_minor": 5
}
