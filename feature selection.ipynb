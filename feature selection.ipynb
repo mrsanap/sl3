{
 "cells": [
  {
   "cell_type": "code",
   "execution_count": null,
   "id": "7522621c",
   "metadata": {},
   "outputs": [],
   "source": [
    "import pandas as pd"
   ]
  },
  {
   "cell_type": "code",
   "execution_count": null,
   "id": "3e72460f",
   "metadata": {},
   "outputs": [],
   "source": [
    "data={'candy variety':['chocolate hearts','sour jelly','candy canes','sour jelly','fruit drops'],\n",
    "\t'Date and Time':['09-02-2020 14:05','24-10-2020 18:00','18-12-2020 20:13','25-10-2020 10:00','18-10-2020 15:46'],\n",
    "\t'Day':['sunday','saturday','friday','sunday','sunday'],\n",
    "\t'Length':[3,3.5,3.5,3.5,3],\n",
    "\t'Breadth':[2,2,2.5,2,3],\n",
    "\t'Price':[7.5,7.6,8,7.6,9]}"
   ]
  },
  {
   "cell_type": "code",
   "execution_count": null,
   "id": "e1a07ff4",
   "metadata": {},
   "outputs": [],
   "source": [
    "df=pd.DataFrame(data)\n",
    "df['Date and Time']=pd.to_datetime(df['Date and Time'],format=\"%d-%m-%Y %H:%M\")\n",
    "print(df)"
   ]
  },
  {
   "cell_type": "code",
   "execution_count": null,
   "id": "f36ec602",
   "metadata": {},
   "outputs": [],
   "source": [
    "\"\"\"# creating new feature Date from existing feature Date and Time #\"\"\"\n",
    "df['Date']=df['Date and Time'].dt.date\n",
    "print(df[['candy variety','Date']])"
   ]
  },
  {
   "cell_type": "code",
   "execution_count": null,
   "id": "a29f2cf5",
   "metadata": {},
   "outputs": [],
   "source": [
    "'# creating weekend from days #'\n",
    "import numpy as np\n",
    "df['weekend']=np.where(df['Day'].isin(['saturday','sunday']),1,0)\n",
    "print(df[['candy variety','Date','weekend']])"
   ]
  },
  {
   "cell_type": "code",
   "execution_count": null,
   "id": "bca6bb51",
   "metadata": {},
   "outputs": [],
   "source": [
    "\n",
    "'# Appending row with missing values #'\n",
    "df=pd.DataFrame(data)\n",
    "df['Date and Time']=pd.to_datetime(df['Date and Time'],format=\"%d-%m-%Y %H:%M\")\n",
    "df.loc[len(df.index)]=[np.NaN,'22-10-2020 17:24','thursday',3.5,2,np.NaN]\n",
    "print(df)"
   ]
  },
  {
   "cell_type": "code",
   "execution_count": null,
   "id": "b6064d8a",
   "metadata": {},
   "outputs": [],
   "source": [
    "'# Imputation #'\n",
    "df['candy variety']=df['candy variety'].fillna(df['candy variety'].mode()[0])\n",
    "df['Price']=df['Price'].fillna(df['Price'].mean())\n",
    "print(df)"
   ]
  },
  {
   "cell_type": "code",
   "execution_count": null,
   "id": "e68ac613",
   "metadata": {},
   "outputs": [],
   "source": [
    "'# Discretization #'\n",
    "df['Type of Day']=np.where(df['Day'].isin(['saturday','sunday']),'weekend','weekday')\n",
    "df[['candy variety','Day','Type of Day']]\n",
    "print(df)"
   ]
  },
  {
   "cell_type": "code",
   "execution_count": null,
   "id": "d05fb6c0",
   "metadata": {},
   "outputs": [],
   "source": [
    "'# Categorical Encoding #'\n",
    "for x in df['Type of Day'].unique():df[x]=np.where(df['Type of Day']==x,1,0)\n",
    "print(df[['candy variety','Day','Type of Day','weekend','weekday']])"
   ]
  },
  {
   "cell_type": "code",
   "execution_count": null,
   "id": "765452ae",
   "metadata": {},
   "outputs": [],
   "source": [
    "'# Feature Splitting #'\n",
    "df['Date and Time']=pd.to_datetime(df['Date and Time'])\n",
    "df['Date']=df['Date and Time'].dt.date\n",
    "print(df[['candy variety','Date']])"
   ]
  },
  {
   "cell_type": "code",
   "execution_count": null,
   "id": "849cba42",
   "metadata": {},
   "outputs": [],
   "source": []
  },
  {
   "cell_type": "code",
   "execution_count": null,
   "id": "41e11370",
   "metadata": {},
   "outputs": [],
   "source": []
  }
 ],
 "metadata": {
  "kernelspec": {
   "display_name": "Python 3 (ipykernel)",
   "language": "python",
   "name": "python3"
  },
  "language_info": {
   "codemirror_mode": {
    "name": "ipython",
    "version": 3
   },
   "file_extension": ".py",
   "mimetype": "text/x-python",
   "name": "python",
   "nbconvert_exporter": "python",
   "pygments_lexer": "ipython3",
   "version": "3.9.13"
  }
 },
 "nbformat": 4,
 "nbformat_minor": 5
}
