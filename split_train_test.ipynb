{
 "cells": [
  {
   "cell_type": "code",
   "execution_count": null,
   "id": "ded11b0d",
   "metadata": {},
   "outputs": [],
   "source": [
    "\n",
    "#import required libraries\n",
    "import pandas as pd\n",
    "from sklearn.model_selection import train_test_split"
   ]
  },
  {
   "cell_type": "code",
   "execution_count": null,
   "id": "14e89946",
   "metadata": {},
   "outputs": [],
   "source": [
    "#read the dataset\n",
    "datasets = pd.read_csv('Real-estate.csv')"
   ]
  },
  {
   "cell_type": "code",
   "execution_count": null,
   "id": "7b98ae85",
   "metadata": {},
   "outputs": [],
   "source": [
    "#check the data set using head() function\n",
    "datasets.head()"
   ]
  },
  {
   "cell_type": "code",
   "execution_count": null,
   "id": "d2797018",
   "metadata": {},
   "outputs": [],
   "source": [
    "\n",
    "#get the location\n",
    "x = datasets.iloc[:, :-1]\n",
    "y = datasets.iloc[:, :-1]"
   ]
  },
  {
   "cell_type": "code",
   "execution_count": null,
   "id": "6edf0fa6",
   "metadata": {},
   "outputs": [],
   "source": [
    "#split tha datasets using train_test_split fucntion\n",
    "x_train, x_test, y_train, y_test = train_test_split(x, y, test_size=0.05, random_state=0)"
   ]
  },
  {
   "cell_type": "code",
   "execution_count": null,
   "id": "cd8aaa7e",
   "metadata": {},
   "outputs": [],
   "source": [
    "#check the size of train dataset\n",
    "xtrain = x_train.shape\n",
    "ytrain = y_train.shape\n",
    "print(f'Dataset size of x_test: {xtrain}')\n",
    "print(f'Dataset size of y_test: {ytrain}')"
   ]
  },
  {
   "cell_type": "code",
   "execution_count": null,
   "id": "5d1a6878",
   "metadata": {},
   "outputs": [],
   "source": [
    "#check the test datasets shape\n",
    "xtest = x_test.shape\n",
    "ytest = y_test.shape\n",
    "print(f'Dataset size of x_test: {xtest}')\n",
    "print(f'Dataset size of y_test: {ytest}')"
   ]
  },
  {
   "cell_type": "code",
   "execution_count": null,
   "id": "d54b9783",
   "metadata": {},
   "outputs": [],
   "source": [
    "#check the _x_train dataset\n",
    "x_train"
   ]
  },
  {
   "cell_type": "code",
   "execution_count": null,
   "id": "427c374f",
   "metadata": {},
   "outputs": [],
   "source": [
    "#check the y_train dataset\n",
    "y_train"
   ]
  },
  {
   "cell_type": "code",
   "execution_count": null,
   "id": "4603a02d",
   "metadata": {},
   "outputs": [],
   "source": [
    "#check the x_test dataset\n",
    "x_test"
   ]
  },
  {
   "cell_type": "code",
   "execution_count": null,
   "id": "0aba8fb0",
   "metadata": {},
   "outputs": [],
   "source": [
    "#check the y_test Datasets\n",
    "y_test"
   ]
  },
  {
   "cell_type": "code",
   "execution_count": null,
   "id": "bc9fa112",
   "metadata": {},
   "outputs": [],
   "source": []
  }
 ],
 "metadata": {
  "kernelspec": {
   "display_name": "Python 3 (ipykernel)",
   "language": "python",
   "name": "python3"
  },
  "language_info": {
   "codemirror_mode": {
    "name": "ipython",
    "version": 3
   },
   "file_extension": ".py",
   "mimetype": "text/x-python",
   "name": "python",
   "nbconvert_exporter": "python",
   "pygments_lexer": "ipython3",
   "version": "3.9.13"
  }
 },
 "nbformat": 4,
 "nbformat_minor": 5
}
