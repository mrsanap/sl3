{
 "cells": [
  {
   "cell_type": "code",
   "execution_count": null,
   "id": "81b5ec09",
   "metadata": {},
   "outputs": [],
   "source": [
    "\n",
    "#import rquired libraies for reading and cleaning\n",
    "import nltk\n",
    "import numpy as np\n",
    "import pandas as pd\n",
    "import matplotlib.pyplot as plt\n",
    "from sklearn.naive_bayes import MultinomialNB\n",
    "from sklearn.model_selection import train_test_split\n",
    "from nltk.corpus import stopwords\n",
    "from nltk.stem import PorterStemmer,WordNetLemmatizer\n",
    "from nltk.tokenize import word_tokenize\n",
    "import sklearn.metrics as m\n"
   ]
  },
  {
   "cell_type": "code",
   "execution_count": null,
   "id": "808a6e9b",
   "metadata": {},
   "outputs": [],
   "source": [
    "#Download and unzip some subpackeges of nltk\n",
    "nltk.download('punkt')\n",
    "nltk.download('stopwords')\n",
    "nltk.download('wordnet')\n",
    "     "
   ]
  },
  {
   "cell_type": "code",
   "execution_count": null,
   "id": "3c7728ba",
   "metadata": {},
   "outputs": [],
   "source": [
    "\n",
    "#read the dataset\n",
    "df = pd.read_csv('spam.csv', encoding='latin-1')"
   ]
  },
  {
   "cell_type": "code",
   "execution_count": null,
   "id": "028d82b5",
   "metadata": {},
   "outputs": [],
   "source": [
    "\n",
    "#check the first five row\n",
    "df.head()"
   ]
  },
  {
   "cell_type": "code",
   "execution_count": null,
   "id": "b71007f5",
   "metadata": {},
   "outputs": [],
   "source": [
    "\n",
    "#check the shape of the data set\n",
    "df.shape"
   ]
  },
  {
   "cell_type": "code",
   "execution_count": null,
   "id": "30db9566",
   "metadata": {},
   "outputs": [],
   "source": [
    "\n",
    "sent = dataset.iloc[:, [1]]['v2']\n",
    "sent"
   ]
  },
  {
   "cell_type": "code",
   "execution_count": null,
   "id": "6739c84d",
   "metadata": {},
   "outputs": [],
   "source": [
    "\n",
    "labels = dataset.iloc[:, [0]]['v1']\n",
    "labels"
   ]
  },
  {
   "cell_type": "code",
   "execution_count": null,
   "id": "b38b661b",
   "metadata": {},
   "outputs": [],
   "source": [
    "from sklearn.preprocessing import LabelEncoder\n",
    "le = LabelEncoder()\n",
    "labels = le.fit_transform(labels)"
   ]
  },
  {
   "cell_type": "code",
   "execution_count": null,
   "id": "e351833d",
   "metadata": {},
   "outputs": [],
   "source": [
    "le.classes_\n"
   ]
  },
  {
   "cell_type": "code",
   "execution_count": null,
   "id": "3d188d52",
   "metadata": {},
   "outputs": [],
   "source": [
    "\n",
    "labels"
   ]
  },
  {
   "cell_type": "code",
   "execution_count": null,
   "id": "e3a0c0f6",
   "metadata": {},
   "outputs": [],
   "source": [
    "\n",
    "from keras.utils.np_utils import to_categorical\n",
    "labels = to_categorical(labels)"
   ]
  },
  {
   "cell_type": "code",
   "execution_count": null,
   "id": "35fc3bbf",
   "metadata": {},
   "outputs": [],
   "source": [
    "labels"
   ]
  },
  {
   "cell_type": "code",
   "execution_count": null,
   "id": "9cd363f6",
   "metadata": {},
   "outputs": [],
   "source": [
    "import re"
   ]
  },
  {
   "cell_type": "code",
   "execution_count": null,
   "id": "702cf6df",
   "metadata": {},
   "outputs": [],
   "source": [
    "lemma = WordNetLemmatizer()"
   ]
  },
  {
   "cell_type": "code",
   "execution_count": null,
   "id": "99b7410f",
   "metadata": {},
   "outputs": [],
   "source": [
    "sentence = []\n",
    "for j in range(0, len(sent)):\n",
    "  s = re.sub('[^A-Za-z]', ' ', sent[j])\n",
    "  s = s.lower()\n",
    "  words = word_tokenize(s)\n",
    "  words = [lemma.lemmatize(i) for i in words if i not in stopwords.words('english')]\n",
    "  s = ' '.join(words)\n",
    "  sentence.append(s)"
   ]
  },
  {
   "cell_type": "code",
   "execution_count": null,
   "id": "60fb6d83",
   "metadata": {},
   "outputs": [],
   "source": [
    "#sentence\n",
    "\n",
    "from keras.preprocessing.text import one_hot\n"
   ]
  },
  {
   "cell_type": "code",
   "execution_count": null,
   "id": "9eb4e52a",
   "metadata": {},
   "outputs": [],
   "source": [
    "one_hot_sent = [one_hot(i, 1000) for i in sentence]\n",
    "maxi = [len(i) for i in one_hot_sent]\n",
    "max(maxi)"
   ]
  },
  {
   "cell_type": "code",
   "execution_count": null,
   "id": "46b94e8e",
   "metadata": {},
   "outputs": [],
   "source": [
    "from tensorflow.keras.preprocessing.sequence import pad_sequences"
   ]
  },
  {
   "cell_type": "code",
   "execution_count": null,
   "id": "3c60d00b",
   "metadata": {},
   "outputs": [],
   "source": [
    "\n",
    "padsequences = pad_sequences(one_hot_sent, maxlen=80)\n",
    "padsequences"
   ]
  },
  {
   "cell_type": "code",
   "execution_count": null,
   "id": "6da438db",
   "metadata": {},
   "outputs": [],
   "source": [
    "feature_train, feature_test, label_train, label_test = train_test_split(padsequences, labels, test_size=0.2, random_state=7)"
   ]
  },
  {
   "cell_type": "code",
   "execution_count": null,
   "id": "85524171",
   "metadata": {},
   "outputs": [],
   "source": [
    "from keras.models import Sequential\n",
    "from keras.layers import Embedding, LSTM, Dense, Dropout, Flatten"
   ]
  },
  {
   "cell_type": "code",
   "execution_count": null,
   "id": "ee772bf4",
   "metadata": {},
   "outputs": [],
   "source": [
    "\n",
    "model = Sequential()\n",
    "model.add(Embedding(10000, 64, input_length=80))\n",
    "model.add(LSTM(100))\n",
    "model.add(Dense(2, activation='sigmoid'))\n",
    "model.compile(loss='binary_crossentropy', metrics=['accuracy'], optimizer='adam')"
   ]
  },
  {
   "cell_type": "code",
   "execution_count": null,
   "id": "ef455a1b",
   "metadata": {},
   "outputs": [],
   "source": [
    "model.summary()"
   ]
  },
  {
   "cell_type": "code",
   "execution_count": null,
   "id": "83de2595",
   "metadata": {},
   "outputs": [],
   "source": [
    "model.fit(feature_train, label_train, epochs=18, validation_data=(feature_test, label_test))"
   ]
  },
  {
   "cell_type": "code",
   "execution_count": null,
   "id": "8a6cdbc5",
   "metadata": {},
   "outputs": [],
   "source": [
    "label_pred = model.predict(feature_test)\n",
    "label_pred\n"
   ]
  },
  {
   "cell_type": "code",
   "execution_count": null,
   "id": "fcf382a1",
   "metadata": {},
   "outputs": [],
   "source": [
    "label_pred_ = [np.argmax(i, axis=0) for i in label_pred]\n",
    "label_pred_[0:5]"
   ]
  },
  {
   "cell_type": "code",
   "execution_count": null,
   "id": "23a58fb1",
   "metadata": {},
   "outputs": [],
   "source": [
    "label_test_= [np.argmax(i, axis=0) for i in label_test]\n",
    "label_test_[0:5]"
   ]
  },
  {
   "cell_type": "code",
   "execution_count": null,
   "id": "532e550a",
   "metadata": {},
   "outputs": [],
   "source": [
    "m.accuracy_score(label_test_, label_pred_)"
   ]
  },
  {
   "cell_type": "code",
   "execution_count": null,
   "id": "2591830b",
   "metadata": {},
   "outputs": [],
   "source": [
    "print(m.classification_report(label_test_, label_pred_))"
   ]
  },
  {
   "cell_type": "code",
   "execution_count": null,
   "id": "a435b78e",
   "metadata": {},
   "outputs": [],
   "source": [
    "print(m.confusion_matrix(label_test_, label_pred_))"
   ]
  }
 ],
 "metadata": {
  "kernelspec": {
   "display_name": "Python 3 (ipykernel)",
   "language": "python",
   "name": "python3"
  },
  "language_info": {
   "codemirror_mode": {
    "name": "ipython",
    "version": 3
   },
   "file_extension": ".py",
   "mimetype": "text/x-python",
   "name": "python",
   "nbconvert_exporter": "python",
   "pygments_lexer": "ipython3",
   "version": "3.9.13"
  }
 },
 "nbformat": 4,
 "nbformat_minor": 5
}
